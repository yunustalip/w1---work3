{
  "nbformat": 4,
  "nbformat_minor": 0,
  "metadata": {
    "colab": {
      "provenance": [],
      "authorship_tag": "ABX9TyMZ2gkVghZ/GyZBbcakk2Rk",
      "include_colab_link": true
    },
    "kernelspec": {
      "name": "python3",
      "display_name": "Python 3"
    },
    "language_info": {
      "name": "python"
    }
  },
  "cells": [
    {
      "cell_type": "markdown",
      "metadata": {
        "id": "view-in-github",
        "colab_type": "text"
      },
      "source": [
        "<a href=\"https://colab.research.google.com/github/yunustalip/w2---work1/blob/main/w2_work_1.ipynb\" target=\"_parent\"><img src=\"https://colab.research.google.com/assets/colab-badge.svg\" alt=\"Open In Colab\"/></a>"
      ]
    },
    {
      "cell_type": "code",
      "execution_count": null,
      "metadata": {
        "id": "AOAIC2hC0eXW"
      },
      "outputs": [],
      "source": [
        "import numpy as np\n",
        "repeat = False\n",
        "b = np.zeros((6,8),dtype='int32')\n",
        "for i in range(0,6):\n",
        "    for j in range(0,8):\n",
        "        a = np.random.randint(1,50)\n",
        "        if(a in b.T[j]):\n",
        "            repeat = True\n",
        "        while repeat == True:\n",
        "            if(a in b.T[j]):\n",
        "                a = np.random.randint(1,50)\n",
        "                repeat = True\n",
        "            else:\n",
        "                repeat = False\n",
        "        b[i][j] = a\n",
        "            \n",
        "print(b)"
      ]
    }
  ]
}