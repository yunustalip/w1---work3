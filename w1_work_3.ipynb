{
  "nbformat": 4,
  "nbformat_minor": 0,
  "metadata": {
    "colab": {
      "provenance": [],
      "authorship_tag": "ABX9TyMZ2gkVghZ/GyZBbcakk2Rk",
      "include_colab_link": true
    },
    "kernelspec": {
      "name": "python3",
      "display_name": "Python 3"
    },
    "language_info": {
      "name": "python"
    }
  },
  "cells": [
    {
      "cell_type": "markdown",
      "metadata": {
        "id": "view-in-github",
        "colab_type": "text"
      },
      "source": [
        "<a href=\"https://colab.research.google.com/github/yunustalip/w1---work3/blob/main/w1_work_3.ipynb\" target=\"_parent\"><img src=\"https://colab.research.google.com/assets/colab-badge.svg\" alt=\"Open In Colab\"/></a>"
      ]
    },
    {
      "cell_type": "code",
      "execution_count": 1,
      "metadata": {
        "id": "AOAIC2hC0eXW",
        "outputId": "54091d3c-4fec-413f-c27a-ef281191cf9f",
        "colab": {
          "base_uri": "https://localhost:8080/"
        }
      },
      "outputs": [
        {
          "output_type": "stream",
          "name": "stdout",
          "text": [
            "[[20 12 15 20 25 31 29 28]\n",
            " [47 10 43 43 29 47 23 32]\n",
            " [24 39 44 17 33 26 46 34]\n",
            " [18 13 39 10 11 17  5 24]\n",
            " [34 11 25 24 48 24 37 26]\n",
            " [35 32 22 45 45 49 16  4]]\n"
          ]
        }
      ],
      "source": [
        "import numpy as np\n",
        "repeat = False\n",
        "b = np.zeros((6,8),dtype='int32')\n",
        "for i in range(0,6):\n",
        "    for j in range(0,8):\n",
        "        a = np.random.randint(1,50)\n",
        "        if(a in b.T[j]):\n",
        "            repeat = True\n",
        "        while repeat == True:\n",
        "            if(a in b.T[j]):\n",
        "                a = np.random.randint(1,50)\n",
        "                repeat = True\n",
        "            else:\n",
        "                repeat = False\n",
        "        b[i][j] = a\n",
        "            \n",
        "print(b)"
      ]
    }
  ]
}